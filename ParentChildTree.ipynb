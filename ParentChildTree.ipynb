{
  "nbformat": 4,
  "nbformat_minor": 0,
  "metadata": {
    "colab": {
      "provenance": [],
      "gpuType": "A100",
      "authorship_tag": "ABX9TyMbvSKEaXH/z0llNfqxceKx",
      "include_colab_link": true
    },
    "kernelspec": {
      "name": "python3",
      "display_name": "Python 3"
    },
    "language_info": {
      "name": "python"
    },
    "accelerator": "GPU"
  },
  "cells": [
    {
      "cell_type": "markdown",
      "metadata": {
        "id": "view-in-github",
        "colab_type": "text"
      },
      "source": [
        "<a href=\"https://colab.research.google.com/github/jeepcreep/3-D-Image-Build-from-Multiple-Images/blob/master/ParentChildTree.ipynb\" target=\"_parent\"><img src=\"https://colab.research.google.com/assets/colab-badge.svg\" alt=\"Open In Colab\"/></a>"
      ]
    },
    {
      "cell_type": "code",
      "execution_count": null,
      "metadata": {
        "id": "x7ir5ME5eKWM"
      },
      "outputs": [],
      "source": [
        "#!/usr/bin/env python\n",
        "# coding: utf-8\n",
        "\n",
        "# In[1]:\n",
        "\n",
        "\n",
        "import import_ipynb\n",
        "from rotate_translate import node\n",
        "\n",
        "def writetofile(filename, string):\n",
        "    file = open(filename, \"a\")\n",
        "    file.write(string)\n",
        "    file.close()\n",
        "\n",
        "def createtree(nodes, filename):\n",
        "    if(len(nodes) == 0):\n",
        "        print(\"No shapes detected\")\n",
        "        return\n",
        "    subtree = []\n",
        "    string = ''\n",
        "    present = node()\n",
        "    present.left = nodes[0]\n",
        "    nodes[0].name()\n",
        "    present.string = nodes[0].string\n",
        "    if(len(nodes) == 1):\n",
        "        writetofile(filename, present.string)\n",
        "    for i, object in enumerate(nodes[1:]):\n",
        "        object.name()\n",
        "        if(object.operation != 'None'):\n",
        "            if(present.right == 'None'):\n",
        "                present.right = object\n",
        "                present.string = object.operation + \"() {\\n\\t\" + present.string + '\\n\\t' + object.string + '}\\n'\n",
        "                string = present.string\n",
        "            else:\n",
        "                temp = present\n",
        "                present = node()\n",
        "                present.left = temp\n",
        "                present.string = temp.string\n",
        "                present.right = object\n",
        "                present.string = object.operation + \"() {\\n\\t\" + present.left.string + '\\n\\t' + object.string + '}\\n'\n",
        "                string = present.string\n",
        "        else:\n",
        "            if(present.right == 'None'):\n",
        "                writetofile(filename, present.string)\n",
        "            subtree.append(present)\n",
        "            writetofile(filename, string)\n",
        "            string = ''\n",
        "            present = node()\n",
        "            present.left = object\n",
        "            present.string = object.string\n",
        "            if(i == len(nodes)-2):\n",
        "                writetofile(filename, present.string)\n",
        "    if(string != ''):\n",
        "        writetofile(filename, string)\n",
        "    subtree.append(present)\n",
        "    print(\"Subtree:\", len(subtree))\n"
      ]
    }
  ]
}